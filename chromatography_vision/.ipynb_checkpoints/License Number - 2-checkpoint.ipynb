{
 "cells": [
  {
   "cell_type": "code",
   "execution_count": null,
   "metadata": {},
   "outputs": [],
   "source": [
    "import cv2\n",
    "import numpy as np\n",
    "\n",
    "img = cv2.imread(\"images/c_1.jpg\")\n",
    "cv2.namedWindow(\"Original Image\",cv2.WINDOW_NORMAL)\n",
    "cv2.imshow(\"Original Image\",img)\n",
    "\n",
    "\n",
    "\n",
    "# RGB to Gray scale conversion\n",
    "img_gray = cv2.cvtColor(img,cv2.COLOR_RGB2GRAY)\n",
    "cv2.namedWindow(\"Gray Converted Image\",cv2.WINDOW_NORMAL)\n",
    "cv2.imshow(\"Gray Converted Image\",img_gray)\n",
    "\n",
    "\n",
    "\n",
    "# Noise removal with iterative bilateral filter(removes noise while preserving edges)\n",
    "noise_removal = cv2.bilateralFilter(img_gray,9,75,75)\n",
    "cv2.namedWindow(\"Noise Removed Image\",cv2.WINDOW_NORMAL)\n",
    "cv2.imshow(\"Noise Removed Image\",noise_removal)\n",
    "cv2.waitKey() # Wait for a keystroke from the user"
   ]
  },
  {
   "cell_type": "code",
   "execution_count": null,
   "metadata": {},
   "outputs": [],
   "source": [
    "# Histogram equalisation for better results\n",
    "equal_histogram = cv2.equalizeHist(noise_removal)\n",
    "cv2.namedWindow(\"After Histogram equalisation\",cv2.WINDOW_NORMAL)\n",
    "cv2.imshow(\"After Histogram equalisation\",equal_histogram)\n",
    "cv2.waitKey()"
   ]
  },
  {
   "cell_type": "code",
   "execution_count": null,
   "metadata": {},
   "outputs": [],
   "source": [
    "# Morphological opening with a rectangular structure element\n",
    "kernel = cv2.getStructuringElement(cv2.MORPH_RECT,(5,5))\n",
    "morph_image = cv2.morphologyEx(equal_histogram,cv2.MORPH_OPEN,kernel,iterations=15)\n",
    "cv2.namedWindow(\"Morphological opening\",cv2.WINDOW_NORMAL)\n",
    "cv2.imshow(\"Morphological opening\",morph_image)\n",
    "cv2.waitKey()"
   ]
  },
  {
   "cell_type": "code",
   "execution_count": null,
   "metadata": {},
   "outputs": [],
   "source": [
    "# Image subtraction(Subtracting the Morphed image from the histogram equalised Image)\n",
    "sub_morp_image = cv2.subtract(equal_histogram,morph_image)\n",
    "cv2.namedWindow(\"Subtraction image\", cv2.WINDOW_NORMAL)\n",
    "cv2.imshow(\"Subtraction image\", sub_morp_image)\n",
    "\n",
    "cv2.waitKey()"
   ]
  }
 ],
 "metadata": {
  "kernelspec": {
   "display_name": "Python 3",
   "language": "python",
   "name": "python3"
  },
  "language_info": {
   "codemirror_mode": {
    "name": "ipython",
    "version": 3
   },
   "file_extension": ".py",
   "mimetype": "text/x-python",
   "name": "python",
   "nbconvert_exporter": "python",
   "pygments_lexer": "ipython3",
   "version": "3.6.8"
  }
 },
 "nbformat": 4,
 "nbformat_minor": 2
}
